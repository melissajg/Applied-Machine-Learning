{
  "cells": [
    {
      "cell_type": "markdown",
      "id": "55e6b918-afac-43e8-b338-43f8ac64014f",
      "metadata": {
        "id": "55e6b918-afac-43e8-b338-43f8ac64014f"
      },
      "source": [
        "##  Deep Neural Networks Project"
      ]
    },
    {
      "cell_type": "markdown",
      "id": "1a8e066d-2849-4a6e-9c71-bb98d605ae07",
      "metadata": {
        "id": "1a8e066d-2849-4a6e-9c71-bb98d605ae07"
      },
      "source": [
        "In this project, you will be working with a real-world data set from the Las Vegas Metropolitan Police Department. The dataset  contains information about the reported incidents, including the time and location of the crime, type of incident, and number of persons involved."
      ]
    },
    {
      "cell_type": "markdown",
      "id": "9e87fac7-352a-4c39-b087-76254b5e2743",
      "metadata": {
        "id": "9e87fac7-352a-4c39-b087-76254b5e2743"
      },
      "source": [
        "The dataset is downloaded from the public docket at:\n",
        "https://opendata-lvmpd.hub.arcgis.com\n",
        "\n",
        "let's read the csv file and transform the data:"
      ]
    },
    {
      "cell_type": "code",
      "execution_count": 348,
      "id": "637211a4-582f-426b-a127-c3f284463f35",
      "metadata": {
        "id": "637211a4-582f-426b-a127-c3f284463f35"
      },
      "outputs": [],
      "source": [
        "import torch\n",
        "import torch.nn as nn\n",
        "import pandas as pd\n",
        "from torch.utils.data import DataLoader, Dataset\n",
        "import matplotlib.pyplot as plt\n",
        "import seaborn as sns\n",
        "import numpy as np"
      ]
    },
    {
      "cell_type": "code",
      "execution_count": 349,
      "id": "bcf40b02-80b6-4abc-a662-f7ed50a65181",
      "metadata": {
        "id": "bcf40b02-80b6-4abc-a662-f7ed50a65181"
      },
      "outputs": [],
      "source": [
        "orig_df = pd.read_csv('LVMPD-Stats.csv', parse_dates=['ReportedOn'])"
      ]
    },
    {
      "cell_type": "code",
      "source": [
        "from google.colab import drive\n",
        "drive.mount('/content/drive')"
      ],
      "metadata": {
        "colab": {
          "base_uri": "https://localhost:8080/"
        },
        "id": "JmOldCIV0S0v",
        "outputId": "e9ebf1a1-0511-4ba9-95a3-0b619faead13"
      },
      "id": "JmOldCIV0S0v",
      "execution_count": 350,
      "outputs": [
        {
          "output_type": "stream",
          "name": "stdout",
          "text": [
            "Drive already mounted at /content/drive; to attempt to forcibly remount, call drive.mount(\"/content/drive\", force_remount=True).\n"
          ]
        }
      ]
    },
    {
      "cell_type": "code",
      "execution_count": 352,
      "id": "e1ca1d15-3955-4971-a3c4-c1a73b62edda",
      "metadata": {
        "id": "e1ca1d15-3955-4971-a3c4-c1a73b62edda"
      },
      "outputs": [],
      "source": [
        "df = pd.read_csv('LVMPD-Stats.csv', parse_dates=['ReportedOn'],\n",
        "                 usecols = ['X', 'Y', 'ReportedOn',\n",
        "                            'Area_Command','NIBRSOffenseCode',\n",
        "                            'VictimCount' ] )\n",
        "\n",
        "df['DayOfWeek'] = df['ReportedOn'].dt.day_name()\n",
        "df['Time' ]     = df['ReportedOn'].dt.hour\n",
        "df.drop(columns = 'ReportedOn', inplace=True)"
      ]
    },
    {
      "cell_type": "code",
      "execution_count": 353,
      "id": "3ddc413d-ba3f-4204-bc18-7fdd4de8d221",
      "metadata": {
        "id": "3ddc413d-ba3f-4204-bc18-7fdd4de8d221"
      },
      "outputs": [],
      "source": [
        "\n",
        "df['X'] = df['X']\n",
        "df['Y'] = df['Y']\n",
        "df['Time'] = pd.factorize(df['Time'])[0]\n",
        "df['DayOfWeek'] = pd.factorize(df['DayOfWeek'])[0]\n",
        "df.Area_Command = pd.factorize(df['Area_Command'])[0]\n",
        "df.VictimCount = pd.factorize(df['VictimCount'])[0]\n",
        "df.NIBRSOffenseCode = pd.factorize(df['NIBRSOffenseCode'])[0]\n",
        "df.dropna(inplace=True)"
      ]
    },
    {
      "cell_type": "code",
      "execution_count": 354,
      "id": "a9c6162f-9686-4195-818d-950a6368c686",
      "metadata": {
        "id": "a9c6162f-9686-4195-818d-950a6368c686"
      },
      "outputs": [],
      "source": [
        "df= df[['X', 'Y', 'Area_Command', 'NIBRSOffenseCode',\n",
        "       'DayOfWeek', 'Time','VictimCount']]"
      ]
    },
    {
      "cell_type": "code",
      "execution_count": 355,
      "id": "a90bc78a-6d1b-4fe4-a1b0-8333aec1c851",
      "metadata": {
        "id": "a90bc78a-6d1b-4fe4-a1b0-8333aec1c851",
        "outputId": "aed60e73-aa7a-4121-b1fa-e43f7ac2eda9",
        "colab": {
          "base_uri": "https://localhost:8080/"
        }
      },
      "outputs": [
        {
          "output_type": "execute_result",
          "data": {
            "text/plain": [
              "(275, 7)"
            ]
          },
          "metadata": {},
          "execution_count": 355
        }
      ],
      "source": [
        "df.values.shape"
      ]
    },
    {
      "cell_type": "markdown",
      "id": "651605b1-8d2c-4d3e-a09e-9aef6e550fc6",
      "metadata": {
        "id": "651605b1-8d2c-4d3e-a09e-9aef6e550fc6"
      },
      "source": [
        "# Goal\n",
        "The goal is to build a predictive model that is trained on the following data:\n",
        "* latitude and longitude (location)\n",
        "* Hour of the day\n",
        "* Day of the week\n",
        "* Area-of-command code: The police designation of the bureau of the operation.\n",
        "* Classification code for the crime committed\n",
        "  \n",
        "The predicted variable is the number of persons involved in the accident.\n"
      ]
    },
    {
      "cell_type": "markdown",
      "id": "0e54f0b8-83f9-4db9-88f9-f5a595342069",
      "metadata": {
        "id": "0e54f0b8-83f9-4db9-88f9-f5a595342069"
      },
      "source": [
        "## Task 1\n",
        "* print a few rows of the values in the dataframe ``df`` and explain what each column of data means.\n",
        "* identify the input and target variables\n",
        "* what is the range of values in each column? Do you need to scale, shift or normalize your data?\n"
      ]
    },
    {
      "cell_type": "markdown",
      "source": [
        "###  **Task 1 Solution**\n",
        "Columns definintions:\n",
        "* **'X'** is latitude of the crime location.\n",
        "\n",
        "*   **'Y'** is longitude of the crime location.\n",
        "**'Area_Command'** is the police designation of the bureau of the operation.\n",
        "* 'NIBRSOffenseCode' is the assocaited with each unique classification code for the crime committed.\n",
        "* 'DayOfWeek' is the day of the week as an integer.\n",
        "* 'Time' is the hour of the day\n",
        "'DayOfWeek' is the day of the week as an integer.*italicized text*\n",
        "* 'VictimCount' is the number of people involved in the accident"
      ],
      "metadata": {
        "id": "1CTAopkJtmnW"
      },
      "id": "1CTAopkJtmnW"
    },
    {
      "cell_type": "code",
      "source": [
        "# display a few rows of dataframe\n",
        "print(df[0:5])"
      ],
      "metadata": {
        "id": "yU0JLVKcwR1t",
        "colab": {
          "base_uri": "https://localhost:8080/"
        },
        "outputId": "5c0ce028-88b7-4702-b7a2-d3c22231e86c"
      },
      "id": "yU0JLVKcwR1t",
      "execution_count": 438,
      "outputs": [
        {
          "output_type": "stream",
          "name": "stdout",
          "text": [
            "            X          Y  Area_Command  NIBRSOffenseCode  DayOfWeek  Time  \\\n",
            "0 -115.087518  36.216702             0                 0          0     0   \n",
            "1 -115.240172  36.189693             1                 1          1     1   \n",
            "2 -115.143088  36.181329             2                 1          2     0   \n",
            "3 -115.225014  36.117633             3                 1          1     2   \n",
            "4 -115.176708  36.095967             4                 1          1     3   \n",
            "\n",
            "   VictimCount  \n",
            "0            0  \n",
            "1            0  \n",
            "2            1  \n",
            "3            2  \n",
            "4            0  \n"
          ]
        }
      ]
    },
    {
      "cell_type": "markdown",
      "source": [
        "The input variables are 'X','Y', 'Area_Command', 'NIBRSOffenseCode', 'DayOfWeek', 'Time'.\n",
        "\n",
        "The output variable is 'VictimCount'.\n",
        "\n",
        "The range of values for each column can be found by indentifying the smallest and largest vlaue within each column:\n"
      ],
      "metadata": {
        "id": "z8VKDutShKnZ"
      },
      "id": "z8VKDutShKnZ"
    },
    {
      "cell_type": "code",
      "source": [
        "# loop to print range of values for every colum\n",
        "features = ['X', 'Y', 'Area_Command', 'NIBRSOffenseCode',\n",
        "       'DayOfWeek', 'Time','VictimCount']\n",
        "for i in range(0, len(features)):\n",
        "  min_val = min(df.iloc[:,i])\n",
        "  max_val = max(df.iloc[:,i])\n",
        "  print(\"Range of\", features[i], \"column: \", min_val, \"to \", max_val)\n"
      ],
      "metadata": {
        "colab": {
          "base_uri": "https://localhost:8080/"
        },
        "id": "BmcHoDcIt5Tl",
        "outputId": "ce3e4645-17a4-4a5a-d1cb-cd1275192c7d"
      },
      "id": "BmcHoDcIt5Tl",
      "execution_count": 439,
      "outputs": [
        {
          "output_type": "stream",
          "name": "stdout",
          "text": [
            "Range of X column:  -116.0 to  -114.6255705\n",
            "Range of Y column:  35.0684190000001 to  37.0000000000001\n",
            "Range of Area_Command column:  0 to  11\n",
            "Range of NIBRSOffenseCode column:  0 to  2\n",
            "Range of DayOfWeek column:  0 to  6\n",
            "Range of Time column:  0 to  23\n",
            "Range of VictimCount column:  0 to  6\n"
          ]
        }
      ]
    },
    {
      "cell_type": "markdown",
      "id": "5549ecc9-3c0b-4efa-9a1f-340a25a1e4be",
      "metadata": {
        "id": "5549ecc9-3c0b-4efa-9a1f-340a25a1e4be"
      },
      "source": [
        "## Task 2\n",
        "\n",
        "* Create two `DataLoader` objects for training and testing based on the input and output variables. Pick a reasonable batch size and verify the shape of data by iterating over the one dataset and printing the shape of the batched data."
      ]
    },
    {
      "cell_type": "markdown",
      "source": [
        "###  **Task 2 Solution**"
      ],
      "metadata": {
        "id": "uhck8h5bzQ3J"
      },
      "id": "uhck8h5bzQ3J"
    },
    {
      "cell_type": "code",
      "source": [
        "# initialize custome dataset model\n",
        "class CrimeDataset(Dataset):\n",
        "  def __init__(self, inputs, outputs):\n",
        "    self.inputs = inputs\n",
        "    self.outputs = outputs\n",
        "    self.length = len(outputs)\n",
        "  def __len__(self):\n",
        "    return self.length\n",
        "  def __getitem__(self, i):\n",
        "    return self.inputs[i], self.outputs[i]\n",
        "\n"
      ],
      "metadata": {
        "id": "j7Vqnd-VWaGB"
      },
      "id": "j7Vqnd-VWaGB",
      "execution_count": 440,
      "outputs": []
    },
    {
      "cell_type": "code",
      "source": [
        "from sklearn.model_selection import train_test_split\n",
        "import tensorflow as tf\n",
        "from torch.utils.data import TensorDataset\n",
        "\n",
        "batch_size = 32\n",
        "# define features and targets\n",
        "inputs_data = df[['X', 'Y', 'Area_Command', 'NIBRSOffenseCode', 'DayOfWeek', 'Time']].values\n",
        "output_data = df[['VictimCount']].values\n",
        "# split data into training and testing data\n",
        "train_inputs, test_inputs, train_output, test_output = train_test_split(inputs_data, output_data,test_size = 0.3,random_state = 1)\n",
        "\n",
        "# turn dataframe into dataset using custom datatset model\n",
        "train_data = CrimeDataset(train_inputs, train_output)\n",
        "test_data = CrimeDataset(test_inputs, test_output)\n",
        "# add datasets to dataloader\n",
        "train_loader = DataLoader(train_data,\n",
        "                          batch_size=batch_size,\n",
        "                          shuffle=True)\n",
        "test_loader = DataLoader(test_data,\n",
        "                         batch_size=batch_size,\n",
        "                         shuffle=True,)\n",
        "# check shape of testing and training batches\n",
        "print(\"-----Training-----\")\n",
        "for batch_input, batch_output in train_loader:\n",
        "    print(\"Input Shape:\", batch_input.shape)\n",
        "    print(\"Output Shape:\", batch_output.shape)\n",
        "    break\n",
        "print(\"-----Test-----\")\n",
        "for batch_input, batch_output in test_loader:\n",
        "    print(\"Input Shape:\", batch_input.shape)\n",
        "    print(\"Output Shape:\", batch_output.shape)\n",
        "    break"
      ],
      "metadata": {
        "colab": {
          "base_uri": "https://localhost:8080/"
        },
        "id": "5rxnXZXhG1EE",
        "outputId": "b3d397c6-5319-4acf-bc4b-e30f7acd57c8"
      },
      "id": "5rxnXZXhG1EE",
      "execution_count": 460,
      "outputs": [
        {
          "output_type": "stream",
          "name": "stdout",
          "text": [
            "-----Training-----\n",
            "Input Shape: torch.Size([32, 6])\n",
            "Output Shape: torch.Size([32, 1])\n",
            "-----Test-----\n",
            "Input Shape: torch.Size([32, 6])\n",
            "Output Shape: torch.Size([32, 1])\n"
          ]
        }
      ]
    },
    {
      "cell_type": "markdown",
      "id": "1fb6f08c-5e70-4b14-b62c-4686d9f7aace",
      "metadata": {
        "id": "1fb6f08c-5e70-4b14-b62c-4686d9f7aace"
      },
      "source": [
        "## Task 3\n",
        "In this task you will try to predict number of crime victims as a **real number**. Therefore the machine learning problem is a **regression** problem.\n",
        "\n",
        "* Define the proper loss function for this task\n",
        "* what should the size of the predicted output be?\n",
        "* explain your choice of architecture, including how many layers you will be using\n",
        "* define an optimizer for training this model, choose a proper learning rate\n",
        "* write a training loop that obtains a batch out of the  training data and calculates the forward and backward passes over the neural network. Call the optimizer to update the weights of the neural network.\n",
        "* write a for loop that continues the training over a number of epochs. At the end of each epoch, calculate the ``MSE`` error on the test data and print it.\n",
        "* is your model training well? Adjust the learning rate, hidden size of the network, and try different activation functions and number of layers to achieve the best accuracy and report it."
      ]
    },
    {
      "cell_type": "markdown",
      "source": [
        "###  **Task 3 Solution**"
      ],
      "metadata": {
        "id": "8yax5_Q4IAWM"
      },
      "id": "8yax5_Q4IAWM"
    },
    {
      "cell_type": "code",
      "source": [
        "# Define loss function\n",
        "loss_funct = nn.MSELoss()"
      ],
      "metadata": {
        "id": "IczxKNoPIKQF"
      },
      "id": "IczxKNoPIKQF",
      "execution_count": 442,
      "outputs": []
    },
    {
      "cell_type": "code",
      "source": [
        "# Define optimizer\n",
        "optimizer = torch.optim.Adam(model.parameters(), lr=0.001)"
      ],
      "metadata": {
        "id": "jRHZE16uKhYO"
      },
      "id": "jRHZE16uKhYO",
      "execution_count": 443,
      "outputs": []
    },
    {
      "cell_type": "markdown",
      "source": [
        "The size of the ouput should be the [32, 1]."
      ],
      "metadata": {
        "id": "pGCQ-cj4IM5G"
      },
      "id": "pGCQ-cj4IM5G"
    },
    {
      "cell_type": "code",
      "source": [
        "# initialize the learning model\n",
        "from tensorflow import keras\n",
        "\n",
        "class CrimeModel(nn.Module):\n",
        "  def __init__(self):\n",
        "    super().__init__()\n",
        "    self.line1 = nn.Linear(6, 1, True)\n",
        "    self.relu1 = nn.ReLU()\n",
        "  def forward(self, x):\n",
        "    x = self.line1(x)\n",
        "    return x\n",
        "\n",
        "model = CrimeModel()\n"
      ],
      "metadata": {
        "id": "aNQdPI3uJ_oo"
      },
      "id": "aNQdPI3uJ_oo",
      "execution_count": 445,
      "outputs": []
    },
    {
      "cell_type": "markdown",
      "source": [
        "I chose to build"
      ],
      "metadata": {
        "id": "JGVi1mQvKbxv"
      },
      "id": "JGVi1mQvKbxv"
    },
    {
      "cell_type": "code",
      "source": [
        "from sklearn.metrics import mean_squared_error\n",
        "num_epochs = 10\n",
        "# trainig loop\n",
        "for epoch in range(num_epochs):\n",
        "    for batch_inputs, batch_output in train_loader:\n",
        "      optimizer.zero_grad()\n",
        "      train_predicts = model(batch_inputs.float())\n",
        "      loss = loss_funct(train_predicts, batch_output.float())\n",
        "      loss.backward()\n",
        "      optimizer.step()\n",
        "    # calculating and print MSE for each epoch\n",
        "    mse = 0\n",
        "    for batch_inputs, batch_output in test_loader:\n",
        "      test_predict = model(batch_inputs.float())\n",
        "      mse = loss_funct(test_predict,batch_output.float()).item()\n",
        "    print(\"MSE error at epoch\", epoch, \": \", mse )"
      ],
      "metadata": {
        "colab": {
          "base_uri": "https://localhost:8080/"
        },
        "id": "irKcvnWALkk8",
        "outputId": "05031053-ebf6-4470-b7cd-2a0ae77964f5"
      },
      "id": "irKcvnWALkk8",
      "execution_count": 446,
      "outputs": [
        {
          "output_type": "stream",
          "name": "stdout",
          "text": [
            "MSE error at epoch 0 :  2.060438871383667\n",
            "MSE error at epoch 1 :  1.887529730796814\n",
            "MSE error at epoch 2 :  1.9456232786178589\n",
            "MSE error at epoch 3 :  3.103287935256958\n",
            "MSE error at epoch 4 :  1.3437120914459229\n",
            "MSE error at epoch 5 :  2.149050712585449\n",
            "MSE error at epoch 6 :  4.082233905792236\n",
            "MSE error at epoch 7 :  4.1467742919921875\n",
            "MSE error at epoch 8 :  2.101545810699463\n",
            "MSE error at epoch 9 :  1.7323215007781982\n"
          ]
        }
      ]
    },
    {
      "cell_type": "markdown",
      "id": "86e3fc70-c6ce-4589-9930-128951290e8d",
      "metadata": {
        "id": "86e3fc70-c6ce-4589-9930-128951290e8d"
      },
      "source": [
        "## Task 4\n",
        "\n",
        "In this task, you will try to predict the number of crime victims as a **class number**. Therefore the machine learning problem is a **classification** problem.\n",
        "\n",
        "* Repeat all the steps in task 3. Specifically, pay attention to the differences with regression.\n",
        "* How would you find the number of classes on the output data?\n",
        "* How is the architecture different?\n",
        "* How is the loss function different?\n",
        "* Calculate the Accuracy for test data as the number of correct classified outputs divided by the total number of test data in each epoch. Report it at the end of each epoch\n",
        "* Try a few variations of learning rate, hidden dimensions, layers, etc. What is the best accuracy that you can get?"
      ]
    },
    {
      "cell_type": "markdown",
      "source": [
        "###  **Task 4 Solution**"
      ],
      "metadata": {
        "id": "30--I8inLqXB"
      },
      "id": "30--I8inLqXB"
    },
    {
      "cell_type": "markdown",
      "source": [
        "The number of classes on the output data can be determined by find the range of values for victim count. Each value in that range will become a class number. The vlaue range for victim count for the data provided was 0 to 6."
      ],
      "metadata": {
        "id": "TDleWAaf8udu"
      },
      "id": "TDleWAaf8udu"
    },
    {
      "cell_type": "code",
      "source": [
        "# Define loss function\n",
        "loss = nn.CrossEntropyLoss()"
      ],
      "metadata": {
        "id": "wL9LFnCZK9Rz"
      },
      "execution_count": 447,
      "outputs": [],
      "id": "wL9LFnCZK9Rz"
    },
    {
      "cell_type": "markdown",
      "source": [
        "The loss function for this classification problem is cross-entry loss. This loss function measures the models correct prediction."
      ],
      "metadata": {
        "id": "6ZhuaOSzVIZA"
      },
      "id": "6ZhuaOSzVIZA"
    },
    {
      "cell_type": "code",
      "source": [
        "# Define optimizer\n",
        "optimizer = torch.optim.Adam(model.parameters(), lr=0.001)"
      ],
      "metadata": {
        "id": "qEkal3b0K9R0"
      },
      "execution_count": 448,
      "outputs": [],
      "id": "qEkal3b0K9R0"
    },
    {
      "cell_type": "code",
      "source": [
        "# initialize model\n",
        "from tensorflow import keras\n",
        "\n",
        "class CrimeModel(nn.Module):\n",
        "  def __init__(self):\n",
        "    super().__init__()\n",
        "    self.line1 = nn.Linear(6, 1, True)\n",
        "    self.relu1 = nn.Sigmoid()\n",
        "  def forward(self, x):\n",
        "    x = self.line1(x)\n",
        "    return x\n",
        "\n",
        "\n",
        "model = CrimeModel()\n"
      ],
      "metadata": {
        "id": "nD1psRYP8mrR"
      },
      "execution_count": 452,
      "outputs": [],
      "id": "nD1psRYP8mrR"
    },
    {
      "cell_type": "markdown",
      "source": [
        "I chose to build"
      ],
      "metadata": {
        "id": "bRUEN6akK9R0"
      },
      "id": "bRUEN6akK9R0"
    },
    {
      "cell_type": "code",
      "source": [
        "from sklearn.metrics import mean_squared_error\n",
        "num_epochs = 10\n",
        "# trainig loop\n",
        "for epoch in range(num_epochs):\n",
        "    for batch_inputs, batch_output in train_loader:\n",
        "      optimizer.zero_grad()\n",
        "      train_predicts = model(batch_inputs.float())\n",
        "      loss = loss_funct(train_predicts, batch_output.float())\n",
        "      loss.backward()\n",
        "      optimizer.step()\n",
        "    # calculating and print accuracy for each epoch\n",
        "    acc = 0\n",
        "    i = 0\n",
        "    for batch_inputs, batch_output in test_loader:\n",
        "      test_predict = model(batch_inputs.float())\n",
        "      i+= 1\n",
        "      if batch_output[i].item() != 0:\n",
        "        acc = (test_predict[i].item() / batch_output[i].item())\n",
        "    print(\"Accuracy at epoch\", epoch, \": \", acc)"
      ],
      "metadata": {
        "id": "SxBigyScK9R0",
        "colab": {
          "base_uri": "https://localhost:8080/"
        },
        "outputId": "b14e3cf9-c9ec-494a-dc4b-787e97a84e2f"
      },
      "execution_count": 467,
      "outputs": [
        {
          "output_type": "stream",
          "name": "stdout",
          "text": [
            "Accuracy at epoch 0 :  -31.79110336303711\n",
            "Accuracy at epoch 1 :  -33.10005187988281\n",
            "Accuracy at epoch 2 :  -27.951467514038086\n",
            "Accuracy at epoch 3 :  -14.333639144897461\n",
            "Accuracy at epoch 4 :  -32.663482666015625\n",
            "Accuracy at epoch 5 :  -29.44942855834961\n",
            "Accuracy at epoch 6 :  -9.527363459269205\n",
            "Accuracy at epoch 7 :  -30.311870574951172\n",
            "Accuracy at epoch 8 :  -34.580318450927734\n",
            "Accuracy at epoch 9 :  -29.292858123779297\n"
          ]
        }
      ],
      "id": "SxBigyScK9R0"
    },
    {
      "cell_type": "markdown",
      "source": [
        "The best accuracy is ..."
      ],
      "metadata": {
        "id": "Gf3EqednMmYR"
      },
      "id": "Gf3EqednMmYR"
    },
    {
      "cell_type": "markdown",
      "id": "84d2a304-6197-4cd9-b31e-745f7862f213",
      "metadata": {
        "id": "84d2a304-6197-4cd9-b31e-745f7862f213"
      },
      "source": [
        "## Task 5"
      ]
    },
    {
      "cell_type": "markdown",
      "id": "d6e4ef16-d828-45e5-bd58-1c49fcfecf52",
      "metadata": {
        "id": "d6e4ef16-d828-45e5-bd58-1c49fcfecf52"
      },
      "source": [
        "### Reflect on your results\n",
        "\n",
        "* Write a paragraph about your experience with tasks 3 and 4. How do you compare the results? Which one worked better? Why?\n",
        "* Write a piece of code that finds an example of a  miss-classification. Calculate the probabilities for the output classes and plot them in a bar chart. Also, indicate what is the correct class label."
      ]
    },
    {
      "cell_type": "markdown",
      "source": [
        "###  **Task 5 Solution**"
      ],
      "metadata": {
        "id": "UlwgLxdjY-hs"
      },
      "id": "UlwgLxdjY-hs"
    },
    {
      "cell_type": "markdown",
      "source": [
        "I experienced some difficulty with task 3 and 4. Although it was not completed up to standard, It was best to put something"
      ],
      "metadata": {
        "id": "lGDEPF65EyRf"
      },
      "id": "lGDEPF65EyRf"
    },
    {
      "cell_type": "code",
      "source": [],
      "metadata": {
        "id": "DFrYEELxX4xp"
      },
      "id": "DFrYEELxX4xp",
      "execution_count": null,
      "outputs": []
    },
    {
      "cell_type": "markdown",
      "id": "5b000b0b-fa37-4f8d-8ec7-0a1e6e749424",
      "metadata": {
        "id": "5b000b0b-fa37-4f8d-8ec7-0a1e6e749424"
      },
      "source": [
        "## Task 6: Exploring the patterns in raw data\n",
        "\n",
        "* Plot the crime incidents as a `scatter` plot using the corrdinates. Use the color property of each datapoint to indicate the day of the week. Is there a pattern in the plot?\n",
        "* Now make a new scatter plot and use the color property of each datapoint to indicate the number of persons involved in the incident. Is there a pattern here?\n",
        "* use numpy (or pandas if you like) to sort the number of crimes reported by the day of the week. What days are most frequent?\n"
      ]
    },
    {
      "cell_type": "markdown",
      "source": [
        "###  **Task 6 Solution**"
      ],
      "metadata": {
        "id": "OZ3lLeR6CkPx"
      },
      "id": "OZ3lLeR6CkPx"
    },
    {
      "cell_type": "code",
      "execution_count": null,
      "id": "5b396aaf-5d1a-49cd-ae1d-b63af7e561f5",
      "metadata": {
        "id": "5b396aaf-5d1a-49cd-ae1d-b63af7e561f5",
        "colab": {
          "base_uri": "https://localhost:8080/",
          "height": 472
        },
        "outputId": "5f4dae6c-1992-405b-f9b9-2d847574ff16"
      },
      "outputs": [
        {
          "output_type": "display_data",
          "data": {
            "text/plain": [
              "<Figure size 640x480 with 2 Axes>"
            ],
            "image/png": "[encoded data removed]"
          },
          "metadata": {}
        }
      ],
      "source": [
        "import matplotlib.pyplot as plt\n",
        "plt.title(\"Crime Incident Data\")\n",
        "plt.xlabel('Latitude')\n",
        "plt.ylabel('Longitude')\n",
        "plt.scatter(x = df['X'], y = df['Y'], c = df['DayOfWeek'], cmap = 'inferno')\n",
        "plt.colorbar().set_label(\"Day of Week\", labelpad=20, rotation=270)\n",
        "plt.show()"
      ]
    },
    {
      "cell_type": "markdown",
      "source": [
        "Excluding a few outliers, the data points seem to be consentricated in a localized area regardless of day.  "
      ],
      "metadata": {
        "id": "9fZdadJ7G6Fb"
      },
      "id": "9fZdadJ7G6Fb"
    },
    {
      "cell_type": "code",
      "source": [
        "import matplotlib.pyplot as plt\n",
        "plt.title(\"Crime Incident Data\")\n",
        "plt.xlabel('Latitude')\n",
        "plt.ylabel('Longitude')\n",
        "plt.scatter(x = df['X'], y = df['Y'], c = df['VictimCount'])\n",
        "plt.colorbar().set_label(\"Victim Count\", labelpad=20, rotation=270)\n",
        "plt.show()"
      ],
      "metadata": {
        "colab": {
          "base_uri": "https://localhost:8080/",
          "height": 472
        },
        "id": "SGKFTrNiCnu-",
        "outputId": "4a1e5b2e-7413-4635-cbf5-d2d6a282aff9"
      },
      "id": "SGKFTrNiCnu-",
      "execution_count": null,
      "outputs": [
        {
          "output_type": "display_data",
          "data": {
            "text/plain": [
              "<Figure size 640x480 with 2 Axes>"
            ],
            "image/png": "[encoded data removed]"
          },
          "metadata": {}
        }
      ]
    },
    {
      "cell_type": "code",
      "source": [
        "df.sort_values('DayOfWeek')\n",
        "days = {5: 'Monday', 2: 'Tuesday', 6: 'Wednesday', 1: 'Thursday', 0: 'Friday', 3: 'Saturday', 4: 'Sunday'}\n",
        "for key in days:\n",
        "  print(\"Crimes reported on\", days[key],\": \", df['DayOfWeek'].value_counts()[key])"
      ],
      "metadata": {
        "colab": {
          "base_uri": "https://localhost:8080/"
        },
        "id": "u0_uIRSMK9yp",
        "outputId": "5b8717c2-96ed-49d3-e52b-487d8be5f0c7"
      },
      "id": "u0_uIRSMK9yp",
      "execution_count": null,
      "outputs": [
        {
          "output_type": "stream",
          "name": "stdout",
          "text": [
            "Crimes reported on Monday :  43\n",
            "Crimes reported on Tuesday :  32\n",
            "Crimes reported on Wednesday :  28\n",
            "Crimes reported on Thursday :  37\n",
            "Crimes reported on Friday :  40\n",
            "Crimes reported on Saturday :  44\n",
            "Crimes reported on Sunday :  51\n"
          ]
        }
      ]
    },
    {
      "cell_type": "markdown",
      "source": [
        "The weekend, Saturday and Sunday, are the days that had crimes reported most frequently."
      ],
      "metadata": {
        "id": "n07k-rSiVIy_"
      },
      "id": "n07k-rSiVIy_"
    }
  ],
  "metadata": {
    "kernelspec": {
      "display_name": "Python 3 (ipykernel)",
      "language": "python",
      "name": "python3"
    },
    "language_info": {
      "codemirror_mode": {
        "name": "ipython",
        "version": 3
      },
      "file_extension": ".py",
      "mimetype": "text/x-python",
      "name": "python",
      "nbconvert_exporter": "python",
      "pygments_lexer": "ipython3",
      "version": "3.11.5"
    },
    "colab": {
      "provenance": []
    }
  },
  "nbformat": 4,
  "nbformat_minor": 5
}